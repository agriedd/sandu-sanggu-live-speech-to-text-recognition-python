{
 "cells": [
  {
   "cell_type": "code",
   "execution_count": 1,
   "metadata": {},
   "outputs": [],
   "source": [
    "# from pocketsphinx import LiveSpeech\n",
    "# for phrase in LiveSpeech():\n",
    "#     print(phrase)"
   ]
  },
  {
   "cell_type": "code",
   "execution_count": null,
   "metadata": {},
   "outputs": [],
   "source": []
  },
  {
   "cell_type": "code",
   "execution_count": 2,
   "metadata": {},
   "outputs": [],
   "source": [
    "# import speech_recognition as sr\n",
    "# from SoundsLike.SoundsLike import Search\n",
    "\n",
    "# recognizer = sr.Recognizer()\n",
    "\n",
    "# while True:\n",
    "\n",
    "#     try:\n",
    "\n",
    "#         with sr.Microphone() as mic:\n",
    "\n",
    "#             recognizer.adjust_for_ambient_noise(mic, duration=0.1)\n",
    "#             audio = recognizer.listen(\n",
    "#                 mic,\n",
    "#                 phrase_time_limit=2,\n",
    "#             )\n",
    "\n",
    "#             text = recognizer.recognize_sphinx(\n",
    "#                 audio,\n",
    "#                 grammar=\n",
    "#                 show_all=False \n",
    "#             )\n",
    "#             text = text.lower()\n",
    "\n",
    "#             print(f\"{text}\\n\\r\")\n",
    "#             for word in text.split():\n",
    "#                 # Search.perfectHomophones(word)\n",
    "#                 print(word)\n",
    "#                 print(Search.closeHomophones(word))\n",
    "\n",
    "#     except :\n",
    "#         print(\"Freak\")\n",
    "#         recognizer = sr.Recognizer()\n",
    "#         continue"
   ]
  },
  {
   "cell_type": "code",
   "execution_count": 3,
   "metadata": {},
   "outputs": [
    {
     "name": "stdout",
     "output_type": "stream",
     "text": [
      "C:\\Users\\agrie\\AppData\\Local\\Packages\\PythonSoftwareFoundation.Python.3.9_qbz5n2kfra8p0\\LocalCache\\local-packages\\Python39\\site-packages\\pocketsphinx\\model\n"
     ]
    }
   ],
   "source": [
    "from pocketsphinx import get_model_path\n",
    "print(get_model_path())"
   ]
  },
  {
   "cell_type": "code",
   "execution_count": 4,
   "metadata": {},
   "outputs": [],
   "source": [
    "import os\n",
    "from pocketsphinx import LiveSpeech\n",
    "import random\n",
    "import socket\n",
    "\n",
    "server_socket = socket.socket(socket.AF_INET, socket.SOCK_DGRAM)\n",
    "server_socket.bind(('', 12000))\n",
    "\n",
    "speech = LiveSpeech(\n",
    "     lm='./3427.lm', \n",
    "     hmm='./en-us/en-us',\n",
    "\t dict = './3427.dic', \n",
    "     verbose=False, no_search=False, full_utt=False, buffer_size=1048, sampling_rate=16000\n",
    ")\n"
   ]
  },
  {
   "cell_type": "markdown",
   "metadata": {},
   "source": [
    "levenstein"
   ]
  },
  {
   "cell_type": "code",
   "execution_count": 5,
   "metadata": {},
   "outputs": [],
   "source": [
    "# from Levenshtein import distance\n",
    "# distance(\"selamat malam\", \"pagi selamat malam\")"
   ]
  },
  {
   "cell_type": "markdown",
   "metadata": {},
   "source": [
    "load datasets"
   ]
  },
  {
   "cell_type": "code",
   "execution_count": 6,
   "metadata": {},
   "outputs": [],
   "source": [
    "import json\n",
    "strdata = open('./datasets.json')\n",
    "words = json.load(strdata)"
   ]
  },
  {
   "cell_type": "markdown",
   "metadata": {},
   "source": [
    "get dataset data normalize"
   ]
  },
  {
   "cell_type": "code",
   "execution_count": 7,
   "metadata": {},
   "outputs": [],
   "source": [
    "def getDataNormalize(items):\n",
    "\t# get all labels\n",
    "\tlabels = list()\n",
    "\tindexLabels = list()\n",
    "\tlabelIndex = 0\n",
    "\n",
    "\tpatterns = list()\n",
    "\tminWord = 1\n",
    "\tmaxWord = 1\n",
    "\n",
    "\tfor item in items:\n",
    "\t\tlabels.append(item['label'])\n",
    "\t\tfor index in item['pattern']:\n",
    "\t\t\tindexLabels.append(labelIndex)\n",
    "\t\t\tpatterns.append(index)\n",
    "\t\t\t# check min and max word\n",
    "\t\t\twordCount = len(index.split())\n",
    "\t\t\tif minWord > wordCount:\n",
    "\t\t\t\tminWord = wordCount\n",
    "\t\t\tif maxWord <= wordCount:\n",
    "\t\t\t\tmaxWord = wordCount\n",
    "\t\t# increase label index pointer\n",
    "\t\tlabelIndex += 1\n",
    "\tresult = {\n",
    "\t\t'labels': {\n",
    "\t\t\t'data': labels,\n",
    "\t\t\t'index': indexLabels\n",
    "\t\t},\n",
    "\t\t'patterns': {\n",
    "\t\t\t'data': patterns,\n",
    "\t\t\t'word': {\n",
    "\t\t\t\t'min': minWord,\n",
    "\t\t\t\t'max': maxWord\n",
    "\t\t\t}\n",
    "\t\t}\n",
    "\t}\n",
    "\treturn result"
   ]
  },
  {
   "cell_type": "code",
   "execution_count": 8,
   "metadata": {},
   "outputs": [
    {
     "name": "stdout",
     "output_type": "stream",
     "text": [
      "{'labels': {'data': ['sambak', 'sari_sandu', 'nusa_fua_funi', 'ina_boi', 'ama_boi', 'deta_hitu', 'manek', 'tirosa'], 'index': [0, 0, 1, 1, 1, 1, 1, 2, 2, 2, 2, 2, 2, 3, 3, 3, 3, 4, 4, 4, 4, 5, 5, 5, 5, 5, 6, 6, 7, 7, 7, 7]}, 'patterns': {'data': ['sambak', 'saambak', 'saree sandoo', 'sandoo', 'sari sandu', 'saari saandu', 'seri sendu', 'nusa fua funi', 'fua funi', 'nusa fua', 'noosa fooa fooni', 'fooa fooni', 'noosa fooa', 'ina bo ee', 'ina boi', 'ina', 'eena boee', 'aama bo ee', 'ama boi', 'ama', 'ama bo ee', 'deta heetoo', 'deta hitu', 'detaa heetow', 'detaa', 'heetow', 'maanek', 'manek', 'tirosa', 'teerosaa', 'tee rosaa', 'rosaa'], 'word': {'min': 1, 'max': 3}}}\n"
     ]
    }
   ],
   "source": [
    "data = getDataNormalize(words)\n",
    "print(data)"
   ]
  },
  {
   "cell_type": "markdown",
   "metadata": {},
   "source": [
    "tokenizing"
   ]
  },
  {
   "cell_type": "code",
   "execution_count": 9,
   "metadata": {},
   "outputs": [],
   "source": [
    "import math\n",
    "import pandas as pd\n",
    "\n",
    "def tokenizing(words, wordOptions):\n",
    "\twordsList = words.strip().split()\n",
    "\twordsCount = len(wordsList)\n",
    "\tresult = list()\n",
    "\t# divide by min and max word section\n",
    "\n",
    "\tfor wordSection in range(wordOptions['min'], wordOptions['max'] + 1):\n",
    "\t\t# split words\n",
    "\t\tsectionAvailable = wordsCount - (wordSection - 1)\n",
    "\n",
    "\t\tstartWord = 0\n",
    "\n",
    "\t\tfor section in range(sectionAvailable) :\n",
    "\t\t\tstartWord = section\n",
    "\t\t\tendWord = wordSection + startWord\n",
    "\t\t\tif endWord >= wordsCount:\n",
    "\t\t\t\tendWord = wordsCount\n",
    "\t\t\twordJoined = \" \".join(wordsList[startWord:endWord])\n",
    "\t\t\t# print(wordSection, section, startWord, sectionAvailable, wordJoined)\n",
    "\t\t\tresult.append(wordJoined)\n",
    "\treturn result\n",
    "\n"
   ]
  },
  {
   "cell_type": "markdown",
   "metadata": {},
   "source": []
  },
  {
   "cell_type": "code",
   "execution_count": 10,
   "metadata": {},
   "outputs": [
    {
     "name": "stdout",
     "output_type": "stream",
     "text": [
      "[]\n"
     ]
    }
   ],
   "source": [
    "print('aana faeto ndana ta neeta camba'.split(\" \")[1:1])"
   ]
  },
  {
   "cell_type": "code",
   "execution_count": 11,
   "metadata": {},
   "outputs": [],
   "source": [
    "\n",
    "def parseVoice(word):\n",
    "    print(word)\n",
    "    tokenized = tokenizing(words=word, wordOptions=data['patterns']['word'])\n",
    "    # check the tokenized match words\n",
    "    # reverse tokenized\n",
    "    # print(tokenized)\n",
    "    tokenized.reverse()\n",
    "    # print(tokenized)\n",
    "    patternMatched = None\n",
    "    for token in tokenized:\n",
    "        # print(tokenized)\n",
    "        for index, pattern in enumerate(data['patterns']['data']):\n",
    "            # print(pattern, \"==\", token, pattern == token)\n",
    "            if pattern == token:\n",
    "                patternMatched = index\n",
    "            if patternMatched is not None:\n",
    "                break\n",
    "        if(patternMatched is not None):\n",
    "            break\n",
    "    label = None\n",
    "    if(patternMatched is not None):\n",
    "        labelIndex = data['labels']['index'][patternMatched]\n",
    "        label = data['labels']['data'][labelIndex]\n",
    "    return {\n",
    "        'label': label,\n",
    "        'pattern': patternMatched\n",
    "    }\n"
   ]
  },
  {
   "cell_type": "code",
   "execution_count": 12,
   "metadata": {},
   "outputs": [
    {
     "name": "stdout",
     "output_type": "stream",
     "text": [
      "b'siddheshrane' ('127.0.0.1', 65321)\n",
      "EENA BOEE\n",
      "eena boee\n",
      "AAMA BO HEETOO\n",
      "aama bo heetoo\n",
      "DETAA HEETOW\n",
      "detaa heetow\n",
      "\n",
      "\n",
      "\n",
      "\n",
      "DETAA HEETOW\n",
      "detaa heetow\n",
      "DETA AMA BOEE SARI EE INA INA EE FUNI INA BO SARI DETA HITU SAMBAK DETA DETAA HEETOW DETA HITU FUA DETA DETA HEETOO TEE\n",
      "deta ama boee sari ee ina ina ee funi ina bo sari deta hitu sambak deta detaa heetow deta hitu fua deta deta heetoo tee\n",
      "HEETOO EE DETAA HEETOW BO HITU HITU SAMBAK DETA FOONI FUA AMA FOONI HITU INA MAANEK DETA FUA BO AMA AMA BOI AMA DETA HITU DETA HEETOO DETA BO DETA HEETOO HEETOO DETA HITU FUNI DETA HEETOO MAANEK DETA BO EE AMA INA DETA DETA HEETOO FOOA FOONI MAANEK BO EE HEETOO TEE DETA TEE EE FUNI\n",
      "heetoo ee detaa heetow bo hitu hitu sambak deta fooni fua ama fooni hitu ina maanek deta fua bo ama ama boi ama deta hitu deta heetoo deta bo deta heetoo heetoo deta hitu funi deta heetoo maanek deta bo ee ama ina deta deta heetoo fooa fooni maanek bo ee heetoo tee deta tee ee funi\n",
      "DETA AMA INA FUA DETA DETA DETA HITU MANEK INA BO EE\n",
      "deta ama ina fua deta deta deta hitu manek ina bo ee\n",
      "FOONI BO AMA BO HEETOO HEETOW AMA FOONI DETA HITU HEETOO BO DETA HITU FUA\n",
      "fooni bo ama bo heetoo heetow ama fooni deta hitu heetoo bo deta hitu fua\n",
      "FUA\n",
      "fua\n",
      "NOOSA AMA TEE ROSAA INA BO BO EE BO EE DETAA HEETOW HEETOW DETA HEETOO EE INA BO HEETOO TEE FUNI BO EE FUNI BO EE BOEE HITU ROSAA HEETOO INA BO BOEE FOONI EE DETA HITU DETA HITU FOONI FOOA FOONI DETA HEETOO DETA EE MAANEK EE BO EE\n",
      "noosa ama tee rosaa ina bo bo ee bo ee detaa heetow heetow deta heetoo ee ina bo heetoo tee funi bo ee funi bo ee boee hitu rosaa heetoo ina bo boee fooni ee deta hitu deta hitu fooni fooa fooni deta heetoo deta ee maanek ee bo ee\n",
      "TEE EE BO\n",
      "tee ee bo\n",
      "EE\n",
      "ee\n",
      "INA MANEK BO\n",
      "ina manek bo\n",
      "MAANEK HEETOO MANEK FUA FUA\n",
      "maanek heetoo manek fua fua\n",
      "DETA\n",
      "deta\n",
      "\n",
      "\n",
      "DETA AAMA\n",
      "deta aama\n",
      "NOOSA FOOA EE\n",
      "noosa fooa ee\n",
      "BO BO BOEE AMA\n",
      "bo bo boee ama\n",
      "TEE EE DETAA HEETOW HEETOW AAMA AAMA BO EE FUNI TEE DETA BO\n",
      "tee ee detaa heetow heetow aama aama bo ee funi tee deta bo\n",
      "HEETOO\n",
      "heetoo\n",
      "HITU BO DETA HITU BOI\n",
      "hitu bo deta hitu boi\n",
      "\n",
      "\n",
      "BO\n",
      "bo\n",
      "HEETOW BO HITU\n",
      "heetow bo hitu\n",
      "\n",
      "\n",
      "\n",
      "\n",
      "EE MAANEK DETA HEETOO DETA HEETOO HITU\n",
      "ee maanek deta heetoo deta heetoo hitu\n",
      "BO\n",
      "bo\n",
      "BO INA TEE DETA HEETOO AMA HEETOO HITU DETA HITU BO EE MANEK BOEE BO HITU EE AMA HITU BOI\n",
      "bo ina tee deta heetoo ama heetoo hitu deta hitu bo ee manek boee bo hitu ee ama hitu boi\n",
      "DETA BOEE AMA BO\n",
      "deta boee ama bo\n",
      "HITU\n",
      "hitu\n",
      "\n",
      "\n",
      "FUA\n",
      "fua\n",
      "DETA HEETOO\n",
      "deta heetoo\n",
      "HEETOO AMA\n",
      "heetoo ama\n",
      "INA\n",
      "ina\n",
      "SERI\n",
      "seri\n",
      "FUA EE\n",
      "fua ee\n",
      "DETA HITU\n",
      "deta hitu\n",
      "\n",
      "\n",
      "FOOA FOONI FOONI BO EE\n",
      "fooa fooni fooni bo ee\n",
      "HEETOO\n",
      "heetoo\n",
      "AMA BO HITU EE\n",
      "ama bo hitu ee\n",
      "\n",
      "\n",
      "TEE HEETOO MAANEK\n",
      "tee heetoo maanek\n",
      "AMA BO EE EE HITU AMA FOOA FOONI\n",
      "ama bo ee ee hitu ama fooa fooni\n",
      "MAANEK\n",
      "maanek\n",
      "BOEE HEETOO\n",
      "boee heetoo\n",
      "\n",
      "\n",
      "\n",
      "\n",
      "\n",
      "\n",
      "HEETOO BO FOOA FOONI HEETOO BO AAMA DETA HITU EE SAANDU AAMA INA EE HEETOO INA INA AMA DETA HEETOO MAANEK AMA AMA DETA HITU TEE\n",
      "heetoo bo fooa fooni heetoo bo aama deta hitu ee saandu aama ina ee heetoo ina ina ama deta heetoo maanek ama ama deta hitu tee\n",
      "EENA BOEE EE\n",
      "eena boee ee\n",
      "HEETOO BO EE\n",
      "heetoo bo ee\n",
      "DETA HITU\n",
      "deta hitu\n",
      "FOONI HITU\n",
      "fooni hitu\n",
      "BO EE\n",
      "bo ee\n",
      "INA BO BO EE\n",
      "ina bo bo ee\n",
      "EE EENA BOEE TEE AMA INA BO EE HEETOW EE BO EE MAANEK\n",
      "ee eena boee tee ama ina bo ee heetow ee bo ee maanek\n",
      "BO DETA HITU DETA DETAA HEETOW BO\n",
      "bo deta hitu deta detaa heetow bo\n",
      "\n",
      "\n",
      "AMA BO EE TEE AMA INA AMA MAANEK HEETOO DETA HITU DETA HITU HEETOO DETA HEETOO AMA DETA HITU FOOA FOONI FUA BO INA BO EE BO FUA SARI AMA ROSAA INA BO FOONI FUNI EE FUA SANDU\n",
      "ama bo ee tee ama ina ama maanek heetoo deta hitu deta hitu heetoo deta heetoo ama deta hitu fooa fooni fua bo ina bo ee bo fua sari ama rosaa ina bo fooni funi ee fua sandu\n",
      "\n",
      "\n",
      "BO EE BO FUA MANEK BO\n",
      "bo ee bo fua manek bo\n",
      "AAMA EE DETAA HEETOW AMA BOEE BO INA FUA EE DETA HEETOO INA BO FOONI FUA BO MAANEK BO EE EENA BOEE AMA FUA FUNI BOEE FOOA FOONI AMA BO INA AMA NUSA EE MAANEK ROSAA AMA INA HITU MANEK EE BO BO EE AMA EE SENDU BO DETA HITU HEETOW INA BO FUA FUNI SENDU BOEE HITU FOOA FOONI DETA BO HITU FUA FUNI BO HEETOO BO DETA HITU FUA BO FUA FUNI AMA BO BO DETA HEETOO FOONI HEETOO BO FOOA FOONI HITU FUNI FUNI FUA FUNI FUNI FUA DETA FOONI HITU DETA HITU HEETOO INA AMA FOONI FOOA FOONI FOONI TEE BO EE FOONI BO DETA ROSAA\n",
      "aama ee detaa heetow ama boee bo ina fua ee deta heetoo ina bo fooni fua bo maanek bo ee eena boee ama fua funi boee fooa fooni ama bo ina ama nusa ee maanek rosaa ama ina hitu manek ee bo bo ee ama ee sendu bo deta hitu heetow ina bo fua funi sendu boee hitu fooa fooni deta bo hitu fua funi bo heetoo bo deta hitu fua bo fua funi ama bo bo deta heetoo fooni heetoo bo fooa fooni hitu funi funi fua funi funi fua deta fooni hitu deta hitu heetoo ina ama fooni fooa fooni fooni tee bo ee fooni bo deta rosaa\n",
      "DETA BO FOOA FOONI BO HITU NOOSA AMA FUA BO MANEK DETAA HEETOW AAMA INA FOOA FOONI SANDU INA DETA HEETOO TEE EE BO EE FUA NOOSA FOOA MANEK FOOA FOONI SAANDU MANEK HITU BO EE DETA EE INA EE FUA INA FOOA INA HITU BO EE MAANEK MAANEK HITU AMA BO EE BO EE DETA FUA BO INA INA HITU\n",
      "deta bo fooa fooni bo hitu noosa ama fua bo manek detaa heetow aama ina fooa fooni sandu ina deta heetoo tee ee bo ee fua noosa fooa manek fooa fooni saandu manek hitu bo ee deta ee ina ee fua ina fooa ina hitu bo ee maanek maanek hitu ama bo ee bo ee deta fua bo ina ina hitu\n",
      "DETA BO MAANEK INA BO SARI FUA FOOA FOONI AMA DETA INA INA BO EE FUA INA BO EE BO DETA HEETOO DETA AMA BOI EE BO EE FUA INA BOI SAARI SAANDU HEETOW DETA FUA INA INA FUA NOOSA NOOSA\n",
      "deta bo maanek ina bo sari fua fooa fooni ama deta ina ina bo ee fua ina bo ee bo deta heetoo deta ama boi ee bo ee fua ina boi saari saandu heetow deta fua ina ina fua noosa noosa\n",
      "FOONI AMA AMA FOONI HEETOO DETA MANEK NUSA FUA AMA BOEE BOEE INA EE BO DETA EE AMA BO EE FUA FUA FOONI HITU HEETOO MAANEK FUA INA AAMA AMA MANEK BOEE DETA AMA BOEE AMA BO EE SAANDU AMA BO BO AMA AMA BOEE AMA INA MAANEK MAANEK FOONI MAANEK DETA BO BO HEETOO MAANEK HITU NOOSA FOOA FOONI NOOSA AMA HITU HEETOW\n",
      "fooni ama ama fooni heetoo deta manek nusa fua ama boee boee ina ee bo deta ee ama bo ee fua fua fooni hitu heetoo maanek fua ina aama ama manek boee deta ama boee ama bo ee saandu ama bo bo ama ama boee ama ina maanek maanek fooni maanek deta bo bo heetoo maanek hitu noosa fooa fooni noosa ama hitu heetow\n",
      "TEE AMA BOEE FUNI FOOA FOONI EENA BOEE TEE SANDU BO EE FOONI\n",
      "tee ama boee funi fooa fooni eena boee tee sandu bo ee fooni\n",
      "HITU AMA HEETOO HITU INA MAANEK HITU EE INA DETA HITU EE MAANEK DETA AMA BOEE FOONI EE AMA\n",
      "hitu ama heetoo hitu ina maanek hitu ee ina deta hitu ee maanek deta ama boee fooni ee ama\n",
      "DETA AMA AMA BO EE TEE AAMA EE AMA FOONI AMA FOOA FOONI AMA HITU HITU FUA FUNI FOOA FOONI FUA MAANEK BO BO MAANEK\n",
      "deta ama ama bo ee tee aama ee ama fooni ama fooa fooni ama hitu hitu fua funi fooa fooni fua maanek bo bo maanek\n",
      "AMA AMA HEETOW AMA SAANDU AAMA DETA HITU DETA DETA BO TEE FOOA FOONI FOONI MAANEK BO DETA HITU SAANDU DETA HITU AMA BOEE DETAA HEETOW AMA FUA FUA HEETOW AMA BO BO EE NOOSA FOOA BOEE AMA HITU HEETOO BO TEE EE FUA BOEE INA BOI HEETOO TEE AMA BOI INA INA BO DETA HEETOO MAANEK MAANEK BO BO AAMA BO EE INA BO AAMA DETA HITU HITU SAAMBAK SENDU MAANEK BO HITU HITU SENDU BO EE BO BO AAMA FOONI FUA AAMA TEE AMA BO AMA FUA BO EE SAANDU EE BO EE FOONI FUA AAMA AMA AMA BO EE HITU FOOA FOONI EE FOONI DETA HITU HITU EE HITU HITU TEE BO FOONI SAANDU SENDU\n",
      "ama ama heetow ama saandu aama deta hitu deta deta bo tee fooa fooni fooni maanek bo deta hitu saandu deta hitu ama boee detaa heetow ama fua fua heetow ama bo bo ee noosa fooa boee ama hitu heetoo bo tee ee fua boee ina boi heetoo tee ama boi ina ina bo deta heetoo maanek maanek bo bo aama bo ee ina bo aama deta hitu hitu saambak sendu maanek bo hitu hitu sendu bo ee bo bo aama fooni fua aama tee ama bo ama fua bo ee saandu ee bo ee fooni fua aama ama ama bo ee hitu fooa fooni ee fooni deta hitu hitu ee hitu hitu tee bo fooni saandu sendu\n",
      "TEE DETA FUA DETA HITU DETA HITU MAANEK FUNI INA BO FOONI INA HITU MANEK FUA INA DETA EE BOEE BOI FUA EE BOEE AMA EE BO BOEE HITU TEE BO EE FOONI DETA EE HITU DETA FUNI MAANEK FOONI HEETOO HEETOW HITU INA DETA INA DETA HITU BO EE BOEE DETA FOONI FOONI INA MANEK DETA HEETOO FUA AMA BO AMA INA HEETOO NUSA EE FOONI INA AAMA AMA BO AAMA HITU DETA EE HITU EE MAANEK EE AMA SAMBAK DETA HEETOO AMA SENDU\n",
      "tee deta fua deta hitu deta hitu maanek funi ina bo fooni ina hitu manek fua ina deta ee boee boi fua ee boee ama ee bo boee hitu tee bo ee fooni deta ee hitu deta funi maanek fooni heetoo heetow hitu ina deta ina deta hitu bo ee boee deta fooni fooni ina manek deta heetoo fua ama bo ama ina heetoo nusa ee fooni ina aama ama bo aama hitu deta ee hitu ee maanek ee ama sambak deta heetoo ama sendu\n",
      "HEETOO EE BO EE FUA FUNI AMA SENDU EE DETA HITU HEETOW BO AMA INA BO EE MAANEK\n",
      "heetoo ee bo ee fua funi ama sendu ee deta hitu heetow bo ama ina bo ee maanek\n"
     ]
    }
   ],
   "source": [
    "\n",
    "while True:\n",
    "    message, address = server_socket.recvfrom(1024)\n",
    "    print(message, address)\n",
    "    for phrase in speech:\n",
    "        print(phrase)\n",
    "        # print(message)\n",
    "        word = str(phrase)\n",
    "        # print(word)\n",
    "        parsedVoice = parseVoice(word.lower())\n",
    "        try:\n",
    "            if(parsedVoice['pattern'] is not None):\n",
    "                server_socket.sendto(str.encode(\n",
    "                    parsedVoice['label']\n",
    "                    # word\n",
    "                ), address)\n",
    "        except:\n",
    "            \"error\"\n",
    "        "
   ]
  },
  {
   "cell_type": "code",
   "execution_count": null,
   "metadata": {},
   "outputs": [],
   "source": []
  }
 ],
 "metadata": {
  "kernelspec": {
   "display_name": "Python 3",
   "language": "python",
   "name": "python3"
  },
  "language_info": {
   "codemirror_mode": {
    "name": "ipython",
    "version": 3
   },
   "file_extension": ".py",
   "mimetype": "text/x-python",
   "name": "python",
   "nbconvert_exporter": "python",
   "pygments_lexer": "ipython3",
   "version": "3.9.13"
  }
 },
 "nbformat": 4,
 "nbformat_minor": 2
}
