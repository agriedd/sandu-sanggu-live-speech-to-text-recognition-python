{
 "cells": [
  {
   "cell_type": "code",
   "execution_count": 6,
   "metadata": {},
   "outputs": [
    {
     "name": "stdout",
     "output_type": "stream",
     "text": [
      "b'ina_boi' 34.59305953979492\n",
      "b'saiboak' 38.71668314933777\n",
      "b'sandu_sangu' 59.453962564468384\n",
      "b'saiboak' 65.50288891792297\n",
      "b'sambak' 68.88218760490417\n",
      "b'sari_sandu' 75.62668347358704\n",
      "b'saiboak' 88.16058492660522\n",
      "b'ina_boi' 139.7143840789795\n",
      "b'tutu_lilo' 146.83841800689697\n",
      "b'ana_feto' 183.8665976524353\n"
     ]
    }
   ],
   "source": [
    "import time\n",
    "import socket\n",
    "\n",
    "client_socket = socket.socket(socket.AF_INET, socket.SOCK_DGRAM)\n",
    "client_socket.settimeout(1.0)\n",
    "addr = (\"127.0.0.1\", 12000)\n",
    "message = b'test'\n",
    "addr = (\"127.0.0.1\", 12000)\n",
    "\n",
    "start = time.time()\n",
    "client_socket.sendto(message, addr)\n",
    "\n",
    "while True:\n",
    "    try:\n",
    "        data, server = client_socket.recvfrom(1024)\n",
    "        end = time.time()\n",
    "        elapsed = end - start\n",
    "        print(f'{data} {elapsed}')\n",
    "    except socket.timeout:\n",
    "        # print('REQUEST TIMED OUT')\n",
    "        \"he\""
   ]
  }
 ],
 "metadata": {
  "kernelspec": {
   "display_name": "Python 3",
   "language": "python",
   "name": "python3"
  },
  "language_info": {
   "codemirror_mode": {
    "name": "ipython",
    "version": 3
   },
   "file_extension": ".py",
   "mimetype": "text/x-python",
   "name": "python",
   "nbconvert_exporter": "python",
   "pygments_lexer": "ipython3",
   "version": "3.9.13"
  }
 },
 "nbformat": 4,
 "nbformat_minor": 2
}
